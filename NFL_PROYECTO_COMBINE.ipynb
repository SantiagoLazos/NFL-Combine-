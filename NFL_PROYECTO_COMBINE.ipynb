{
 "cells": [
  {
   "cell_type": "markdown",
   "id": "dd9e926c",
   "metadata": {},
   "source": [
    "Proyecto NFL combine\n",
    "Limpieza de Base de Datos Sucia\n",
    "Santiago Adrian Lazos Ovalle"
   ]
  },
  {
   "cell_type": "code",
   "execution_count": 141,
   "id": "fb740d47",
   "metadata": {},
   "outputs": [
    {
     "data": {
      "text/html": [
       "<div>\n",
       "<style scoped>\n",
       "    .dataframe tbody tr th:only-of-type {\n",
       "        vertical-align: middle;\n",
       "    }\n",
       "\n",
       "    .dataframe tbody tr th {\n",
       "        vertical-align: top;\n",
       "    }\n",
       "\n",
       "    .dataframe thead th {\n",
       "        text-align: right;\n",
       "    }\n",
       "</style>\n",
       "<table border=\"1\" class=\"dataframe\">\n",
       "  <thead>\n",
       "    <tr style=\"text-align: right;\">\n",
       "      <th></th>\n",
       "      <th>Year</th>\n",
       "      <th>Name</th>\n",
       "      <th>College</th>\n",
       "      <th>POS</th>\n",
       "      <th>Height (in)</th>\n",
       "      <th>Weight (lbs)</th>\n",
       "      <th>Hand Size (in)</th>\n",
       "      <th>Arm Length (in)</th>\n",
       "      <th>Wonderlic</th>\n",
       "      <th>40 Yard</th>\n",
       "      <th>Bench Press</th>\n",
       "      <th>Vert Leap (in)</th>\n",
       "      <th>Broad Jump (in)</th>\n",
       "      <th>Shuttle</th>\n",
       "      <th>3Cone</th>\n",
       "      <th>60Yd Shuttle</th>\n",
       "    </tr>\n",
       "  </thead>\n",
       "  <tbody>\n",
       "    <tr>\n",
       "      <th>0</th>\n",
       "      <td>1987</td>\n",
       "      <td>Mike Adams</td>\n",
       "      <td>Arizona State</td>\n",
       "      <td>CB</td>\n",
       "      <td>NaN</td>\n",
       "      <td>198.0</td>\n",
       "      <td>8.50</td>\n",
       "      <td>30.50</td>\n",
       "      <td>NaN</td>\n",
       "      <td>4.42</td>\n",
       "      <td>13.0</td>\n",
       "      <td>32.0</td>\n",
       "      <td>118.0</td>\n",
       "      <td>4.60</td>\n",
       "      <td>NaN</td>\n",
       "      <td>Auto%#</td>\n",
       "    </tr>\n",
       "    <tr>\n",
       "      <th>1</th>\n",
       "      <td>1987</td>\n",
       "      <td>John Adickes</td>\n",
       "      <td>Auto%#</td>\n",
       "      <td>C</td>\n",
       "      <td>Auto%#</td>\n",
       "      <td>266.0</td>\n",
       "      <td>10.25</td>\n",
       "      <td>30.00</td>\n",
       "      <td>NaN</td>\n",
       "      <td>NaN</td>\n",
       "      <td>25.0</td>\n",
       "      <td>26.5</td>\n",
       "      <td>103.0</td>\n",
       "      <td>4.60</td>\n",
       "      <td>9.99</td>\n",
       "      <td>NaN</td>\n",
       "    </tr>\n",
       "    <tr>\n",
       "      <th>2</th>\n",
       "      <td>1987</td>\n",
       "      <td>Tommy Agee</td>\n",
       "      <td>Auburn</td>\n",
       "      <td>FB</td>\n",
       "      <td>NaN</td>\n",
       "      <td>217.0</td>\n",
       "      <td>9.00</td>\n",
       "      <td>30.75</td>\n",
       "      <td>NaN</td>\n",
       "      <td>9.99</td>\n",
       "      <td>15.0</td>\n",
       "      <td>NaN</td>\n",
       "      <td>NaN</td>\n",
       "      <td>9.99</td>\n",
       "      <td>9.99</td>\n",
       "      <td>NaN</td>\n",
       "    </tr>\n",
       "    <tr>\n",
       "      <th>3</th>\n",
       "      <td>1987</td>\n",
       "      <td>David Alexander</td>\n",
       "      <td>NaN</td>\n",
       "      <td>C</td>\n",
       "      <td>75.0</td>\n",
       "      <td>279.0</td>\n",
       "      <td>10.50</td>\n",
       "      <td>NaN</td>\n",
       "      <td>NaN</td>\n",
       "      <td>5.13</td>\n",
       "      <td>22.0</td>\n",
       "      <td>27.5</td>\n",
       "      <td>Auto%#</td>\n",
       "      <td>4.33</td>\n",
       "      <td>9.99</td>\n",
       "      <td>NaN</td>\n",
       "    </tr>\n",
       "    <tr>\n",
       "      <th>4</th>\n",
       "      <td>1987</td>\n",
       "      <td>Lyneal Alston</td>\n",
       "      <td>Southern Mississippi</td>\n",
       "      <td>WR</td>\n",
       "      <td>72.1</td>\n",
       "      <td>202.0</td>\n",
       "      <td>10.00</td>\n",
       "      <td>33.00</td>\n",
       "      <td>NaN</td>\n",
       "      <td>4.64</td>\n",
       "      <td>7.0</td>\n",
       "      <td>32.0</td>\n",
       "      <td>114.0</td>\n",
       "      <td>4.52</td>\n",
       "      <td>9.99</td>\n",
       "      <td>11.85</td>\n",
       "    </tr>\n",
       "    <tr>\n",
       "      <th>...</th>\n",
       "      <td>...</td>\n",
       "      <td>...</td>\n",
       "      <td>...</td>\n",
       "      <td>...</td>\n",
       "      <td>...</td>\n",
       "      <td>...</td>\n",
       "      <td>...</td>\n",
       "      <td>...</td>\n",
       "      <td>...</td>\n",
       "      <td>...</td>\n",
       "      <td>...</td>\n",
       "      <td>...</td>\n",
       "      <td>...</td>\n",
       "      <td>...</td>\n",
       "      <td>...</td>\n",
       "      <td>...</td>\n",
       "    </tr>\n",
       "    <tr>\n",
       "      <th>10687</th>\n",
       "      <td>2014</td>\n",
       "      <td>James Morris</td>\n",
       "      <td>Iowa</td>\n",
       "      <td>ILB</td>\n",
       "      <td>72.88</td>\n",
       "      <td>241.0</td>\n",
       "      <td>9.13</td>\n",
       "      <td>30.75</td>\n",
       "      <td>NaN</td>\n",
       "      <td>4.80</td>\n",
       "      <td>18.0</td>\n",
       "      <td>34.5</td>\n",
       "      <td>116.0</td>\n",
       "      <td>4.36</td>\n",
       "      <td>6.94</td>\n",
       "      <td>NaN</td>\n",
       "    </tr>\n",
       "    <tr>\n",
       "      <th>10688</th>\n",
       "      <td>2015</td>\n",
       "      <td>Tyler Kroft</td>\n",
       "      <td>Rutgers</td>\n",
       "      <td>TE</td>\n",
       "      <td>77.5</td>\n",
       "      <td>246.0</td>\n",
       "      <td>9.63</td>\n",
       "      <td>33.00</td>\n",
       "      <td>32.0</td>\n",
       "      <td>4.69</td>\n",
       "      <td>17.0</td>\n",
       "      <td>NaN</td>\n",
       "      <td>NaN</td>\n",
       "      <td>9.99</td>\n",
       "      <td>9.99</td>\n",
       "      <td>NaN</td>\n",
       "    </tr>\n",
       "    <tr>\n",
       "      <th>10689</th>\n",
       "      <td>1997</td>\n",
       "      <td>Daryl Terrell</td>\n",
       "      <td>Southern Mississippi</td>\n",
       "      <td>OG</td>\n",
       "      <td>76.5</td>\n",
       "      <td>307.0</td>\n",
       "      <td>10.88</td>\n",
       "      <td>33.63</td>\n",
       "      <td>NaN</td>\n",
       "      <td>5.23</td>\n",
       "      <td>28.0</td>\n",
       "      <td>29.0</td>\n",
       "      <td>103.0</td>\n",
       "      <td>4.77</td>\n",
       "      <td>8.33</td>\n",
       "      <td>NaN</td>\n",
       "    </tr>\n",
       "    <tr>\n",
       "      <th>10690</th>\n",
       "      <td>1991</td>\n",
       "      <td>Todd Scott</td>\n",
       "      <td>Southwestern Louisiana</td>\n",
       "      <td>CB</td>\n",
       "      <td>70.4</td>\n",
       "      <td>204.0</td>\n",
       "      <td>9.63</td>\n",
       "      <td>31.00</td>\n",
       "      <td>NaN</td>\n",
       "      <td>4.65</td>\n",
       "      <td>14.0</td>\n",
       "      <td>33.0</td>\n",
       "      <td>NaN</td>\n",
       "      <td>NaN</td>\n",
       "      <td>9.99</td>\n",
       "      <td>11.41</td>\n",
       "    </tr>\n",
       "    <tr>\n",
       "      <th>10691</th>\n",
       "      <td>1993</td>\n",
       "      <td>Mark Szlachcic</td>\n",
       "      <td>Bowling Green (OH)</td>\n",
       "      <td>WR</td>\n",
       "      <td>75.9</td>\n",
       "      <td>200.0</td>\n",
       "      <td>8.88</td>\n",
       "      <td>33.00</td>\n",
       "      <td>NaN</td>\n",
       "      <td>4.96</td>\n",
       "      <td>NaN</td>\n",
       "      <td>26.0</td>\n",
       "      <td>106.0</td>\n",
       "      <td>4.47</td>\n",
       "      <td>9.99</td>\n",
       "      <td>12.27</td>\n",
       "    </tr>\n",
       "  </tbody>\n",
       "</table>\n",
       "<p>10692 rows × 16 columns</p>\n",
       "</div>"
      ],
      "text/plain": [
       "       Year             Name                 College  POS Height (in)  \\\n",
       "0      1987       Mike Adams           Arizona State   CB         NaN   \n",
       "1      1987     John Adickes                  Auto%#    C      Auto%#   \n",
       "2      1987       Tommy Agee                  Auburn   FB         NaN   \n",
       "3      1987  David Alexander                     NaN    C        75.0   \n",
       "4      1987    Lyneal Alston    Southern Mississippi   WR        72.1   \n",
       "...     ...              ...                     ...  ...         ...   \n",
       "10687  2014     James Morris                    Iowa  ILB       72.88   \n",
       "10688  2015      Tyler Kroft                 Rutgers   TE        77.5   \n",
       "10689  1997    Daryl Terrell    Southern Mississippi   OG        76.5   \n",
       "10690  1991       Todd Scott  Southwestern Louisiana   CB        70.4   \n",
       "10691  1993   Mark Szlachcic      Bowling Green (OH)   WR        75.9   \n",
       "\n",
       "       Weight (lbs)  Hand Size (in)  Arm Length (in)  Wonderlic  40 Yard  \\\n",
       "0             198.0            8.50            30.50        NaN     4.42   \n",
       "1             266.0           10.25            30.00        NaN      NaN   \n",
       "2             217.0            9.00            30.75        NaN     9.99   \n",
       "3             279.0           10.50              NaN        NaN     5.13   \n",
       "4             202.0           10.00            33.00        NaN     4.64   \n",
       "...             ...             ...              ...        ...      ...   \n",
       "10687         241.0            9.13            30.75        NaN     4.80   \n",
       "10688         246.0            9.63            33.00       32.0     4.69   \n",
       "10689         307.0           10.88            33.63        NaN     5.23   \n",
       "10690         204.0            9.63            31.00        NaN     4.65   \n",
       "10691         200.0            8.88            33.00        NaN     4.96   \n",
       "\n",
       "       Bench Press Vert Leap (in) Broad Jump (in)  Shuttle  3Cone 60Yd Shuttle  \n",
       "0             13.0           32.0           118.0     4.60    NaN       Auto%#  \n",
       "1             25.0           26.5           103.0     4.60   9.99          NaN  \n",
       "2             15.0            NaN             NaN     9.99   9.99          NaN  \n",
       "3             22.0           27.5          Auto%#     4.33   9.99          NaN  \n",
       "4              7.0           32.0           114.0     4.52   9.99        11.85  \n",
       "...            ...            ...             ...      ...    ...          ...  \n",
       "10687         18.0           34.5           116.0     4.36   6.94          NaN  \n",
       "10688         17.0            NaN             NaN     9.99   9.99          NaN  \n",
       "10689         28.0           29.0           103.0     4.77   8.33          NaN  \n",
       "10690         14.0           33.0             NaN      NaN   9.99        11.41  \n",
       "10691          NaN           26.0           106.0     4.47   9.99        12.27  \n",
       "\n",
       "[10692 rows x 16 columns]"
      ]
     },
     "execution_count": 141,
     "metadata": {},
     "output_type": "execute_result"
    }
   ],
   "source": [
    "#Importamos las Librerias y Cargamos la Base de datos.\n",
    "import pandas as pd \n",
    "import numpy as np\n",
    "df=pd.read_csv(\"C:/Users/salaz/OneDrive/Desktop/Ciencia de Datos/Proyecto NFL/Base de Datos Sucia.csv\")\n",
    "df"
   ]
  },
  {
   "cell_type": "markdown",
   "id": "cad31cc8",
   "metadata": {},
   "source": [
    "Información General del DF, Valores y Tipos de Datos"
   ]
  },
  {
   "cell_type": "code",
   "execution_count": 142,
   "id": "dd922e30",
   "metadata": {},
   "outputs": [
    {
     "data": {
      "text/plain": [
       "Year                 320\n",
       "Name                 320\n",
       "College              320\n",
       "POS                  320\n",
       "Height (in)          320\n",
       "Weight (lbs)         320\n",
       "Hand Size (in)      1908\n",
       "Arm Length (in)     2249\n",
       "Wonderlic          10256\n",
       "40 Yard              320\n",
       "Bench Press         3648\n",
       "Vert Leap (in)      2296\n",
       "Broad Jump (in)     2461\n",
       "Shuttle              533\n",
       "3Cone                335\n",
       "60Yd Shuttle        7393\n",
       "dtype: int64"
      ]
     },
     "execution_count": 142,
     "metadata": {},
     "output_type": "execute_result"
    }
   ],
   "source": [
    "#Con este comando encontramos la cantidad total de valores \"NaN\" por cada columna\n",
    "df.isnull().sum()"
   ]
  },
  {
   "cell_type": "code",
   "execution_count": 143,
   "id": "64f6e8f5",
   "metadata": {},
   "outputs": [
    {
     "name": "stdout",
     "output_type": "stream",
     "text": [
      "<class 'pandas.core.frame.DataFrame'>\n",
      "RangeIndex: 10692 entries, 0 to 10691\n",
      "Data columns (total 16 columns):\n",
      " #   Column           Non-Null Count  Dtype  \n",
      "---  ------           --------------  -----  \n",
      " 0   Year             10372 non-null  object \n",
      " 1   Name             10372 non-null  object \n",
      " 2   College          10372 non-null  object \n",
      " 3   POS              10372 non-null  object \n",
      " 4   Height (in)      10372 non-null  object \n",
      " 5   Weight (lbs)     10372 non-null  float64\n",
      " 6   Hand Size (in)   8784 non-null   float64\n",
      " 7   Arm Length (in)  8443 non-null   float64\n",
      " 8   Wonderlic        436 non-null    float64\n",
      " 9   40 Yard          10372 non-null  float64\n",
      " 10  Bench Press      7044 non-null   float64\n",
      " 11  Vert Leap (in)   8396 non-null   object \n",
      " 12  Broad Jump (in)  8231 non-null   object \n",
      " 13  Shuttle          10159 non-null  float64\n",
      " 14  3Cone            10357 non-null  float64\n",
      " 15  60Yd Shuttle     3299 non-null   object \n",
      "dtypes: float64(8), object(8)\n",
      "memory usage: 1.3+ MB\n"
     ]
    }
   ],
   "source": [
    "#Con este comando sacamos la informacion general\n",
    "df.info() "
   ]
  },
  {
   "cell_type": "code",
   "execution_count": 144,
   "id": "1628ac73",
   "metadata": {},
   "outputs": [
    {
     "data": {
      "text/plain": [
       "Index(['Year', 'Name', 'College', 'POS', 'Height (in)', 'Weight (lbs)',\n",
       "       'Hand Size (in)', 'Arm Length (in)', 'Wonderlic', '40 Yard',\n",
       "       'Bench Press', 'Vert Leap (in)', 'Broad Jump (in)', 'Shuttle', '3Cone',\n",
       "       '60Yd Shuttle'],\n",
       "      dtype='object')"
      ]
     },
     "execution_count": 144,
     "metadata": {},
     "output_type": "execute_result"
    }
   ],
   "source": [
    "#Sacamos los nombres de las columnas seran utiles posteriormente\n",
    "df.columns"
   ]
  },
  {
   "cell_type": "markdown",
   "id": "91bad16e",
   "metadata": {},
   "source": [
    "Crear una Copia"
   ]
  },
  {
   "cell_type": "code",
   "execution_count": 145,
   "id": "e8c8c0ad",
   "metadata": {},
   "outputs": [
    {
     "data": {
      "text/html": [
       "<div>\n",
       "<style scoped>\n",
       "    .dataframe tbody tr th:only-of-type {\n",
       "        vertical-align: middle;\n",
       "    }\n",
       "\n",
       "    .dataframe tbody tr th {\n",
       "        vertical-align: top;\n",
       "    }\n",
       "\n",
       "    .dataframe thead th {\n",
       "        text-align: right;\n",
       "    }\n",
       "</style>\n",
       "<table border=\"1\" class=\"dataframe\">\n",
       "  <thead>\n",
       "    <tr style=\"text-align: right;\">\n",
       "      <th></th>\n",
       "      <th>Year</th>\n",
       "      <th>Name</th>\n",
       "      <th>College</th>\n",
       "      <th>POS</th>\n",
       "      <th>Height (in)</th>\n",
       "      <th>Weight (lbs)</th>\n",
       "      <th>Hand Size (in)</th>\n",
       "      <th>Arm Length (in)</th>\n",
       "      <th>Wonderlic</th>\n",
       "      <th>40 Yard</th>\n",
       "      <th>Bench Press</th>\n",
       "      <th>Vert Leap (in)</th>\n",
       "      <th>Broad Jump (in)</th>\n",
       "      <th>Shuttle</th>\n",
       "      <th>3Cone</th>\n",
       "      <th>60Yd Shuttle</th>\n",
       "    </tr>\n",
       "  </thead>\n",
       "  <tbody>\n",
       "    <tr>\n",
       "      <th>0</th>\n",
       "      <td>1987</td>\n",
       "      <td>Mike Adams</td>\n",
       "      <td>Arizona State</td>\n",
       "      <td>CB</td>\n",
       "      <td>NaN</td>\n",
       "      <td>198.0</td>\n",
       "      <td>8.50</td>\n",
       "      <td>30.50</td>\n",
       "      <td>NaN</td>\n",
       "      <td>4.42</td>\n",
       "      <td>13.0</td>\n",
       "      <td>32.0</td>\n",
       "      <td>118.0</td>\n",
       "      <td>4.60</td>\n",
       "      <td>NaN</td>\n",
       "      <td>Auto%#</td>\n",
       "    </tr>\n",
       "    <tr>\n",
       "      <th>1</th>\n",
       "      <td>1987</td>\n",
       "      <td>John Adickes</td>\n",
       "      <td>Auto%#</td>\n",
       "      <td>C</td>\n",
       "      <td>Auto%#</td>\n",
       "      <td>266.0</td>\n",
       "      <td>10.25</td>\n",
       "      <td>30.00</td>\n",
       "      <td>NaN</td>\n",
       "      <td>NaN</td>\n",
       "      <td>25.0</td>\n",
       "      <td>26.5</td>\n",
       "      <td>103.0</td>\n",
       "      <td>4.60</td>\n",
       "      <td>9.99</td>\n",
       "      <td>NaN</td>\n",
       "    </tr>\n",
       "    <tr>\n",
       "      <th>2</th>\n",
       "      <td>1987</td>\n",
       "      <td>Tommy Agee</td>\n",
       "      <td>Auburn</td>\n",
       "      <td>FB</td>\n",
       "      <td>NaN</td>\n",
       "      <td>217.0</td>\n",
       "      <td>9.00</td>\n",
       "      <td>30.75</td>\n",
       "      <td>NaN</td>\n",
       "      <td>9.99</td>\n",
       "      <td>15.0</td>\n",
       "      <td>NaN</td>\n",
       "      <td>NaN</td>\n",
       "      <td>9.99</td>\n",
       "      <td>9.99</td>\n",
       "      <td>NaN</td>\n",
       "    </tr>\n",
       "    <tr>\n",
       "      <th>3</th>\n",
       "      <td>1987</td>\n",
       "      <td>David Alexander</td>\n",
       "      <td>NaN</td>\n",
       "      <td>C</td>\n",
       "      <td>75.0</td>\n",
       "      <td>279.0</td>\n",
       "      <td>10.50</td>\n",
       "      <td>NaN</td>\n",
       "      <td>NaN</td>\n",
       "      <td>5.13</td>\n",
       "      <td>22.0</td>\n",
       "      <td>27.5</td>\n",
       "      <td>Auto%#</td>\n",
       "      <td>4.33</td>\n",
       "      <td>9.99</td>\n",
       "      <td>NaN</td>\n",
       "    </tr>\n",
       "    <tr>\n",
       "      <th>4</th>\n",
       "      <td>1987</td>\n",
       "      <td>Lyneal Alston</td>\n",
       "      <td>Southern Mississippi</td>\n",
       "      <td>WR</td>\n",
       "      <td>72.1</td>\n",
       "      <td>202.0</td>\n",
       "      <td>10.00</td>\n",
       "      <td>33.00</td>\n",
       "      <td>NaN</td>\n",
       "      <td>4.64</td>\n",
       "      <td>7.0</td>\n",
       "      <td>32.0</td>\n",
       "      <td>114.0</td>\n",
       "      <td>4.52</td>\n",
       "      <td>9.99</td>\n",
       "      <td>11.85</td>\n",
       "    </tr>\n",
       "    <tr>\n",
       "      <th>...</th>\n",
       "      <td>...</td>\n",
       "      <td>...</td>\n",
       "      <td>...</td>\n",
       "      <td>...</td>\n",
       "      <td>...</td>\n",
       "      <td>...</td>\n",
       "      <td>...</td>\n",
       "      <td>...</td>\n",
       "      <td>...</td>\n",
       "      <td>...</td>\n",
       "      <td>...</td>\n",
       "      <td>...</td>\n",
       "      <td>...</td>\n",
       "      <td>...</td>\n",
       "      <td>...</td>\n",
       "      <td>...</td>\n",
       "    </tr>\n",
       "    <tr>\n",
       "      <th>10687</th>\n",
       "      <td>2014</td>\n",
       "      <td>James Morris</td>\n",
       "      <td>Iowa</td>\n",
       "      <td>ILB</td>\n",
       "      <td>72.88</td>\n",
       "      <td>241.0</td>\n",
       "      <td>9.13</td>\n",
       "      <td>30.75</td>\n",
       "      <td>NaN</td>\n",
       "      <td>4.80</td>\n",
       "      <td>18.0</td>\n",
       "      <td>34.5</td>\n",
       "      <td>116.0</td>\n",
       "      <td>4.36</td>\n",
       "      <td>6.94</td>\n",
       "      <td>NaN</td>\n",
       "    </tr>\n",
       "    <tr>\n",
       "      <th>10688</th>\n",
       "      <td>2015</td>\n",
       "      <td>Tyler Kroft</td>\n",
       "      <td>Rutgers</td>\n",
       "      <td>TE</td>\n",
       "      <td>77.5</td>\n",
       "      <td>246.0</td>\n",
       "      <td>9.63</td>\n",
       "      <td>33.00</td>\n",
       "      <td>32.0</td>\n",
       "      <td>4.69</td>\n",
       "      <td>17.0</td>\n",
       "      <td>NaN</td>\n",
       "      <td>NaN</td>\n",
       "      <td>9.99</td>\n",
       "      <td>9.99</td>\n",
       "      <td>NaN</td>\n",
       "    </tr>\n",
       "    <tr>\n",
       "      <th>10689</th>\n",
       "      <td>1997</td>\n",
       "      <td>Daryl Terrell</td>\n",
       "      <td>Southern Mississippi</td>\n",
       "      <td>OG</td>\n",
       "      <td>76.5</td>\n",
       "      <td>307.0</td>\n",
       "      <td>10.88</td>\n",
       "      <td>33.63</td>\n",
       "      <td>NaN</td>\n",
       "      <td>5.23</td>\n",
       "      <td>28.0</td>\n",
       "      <td>29.0</td>\n",
       "      <td>103.0</td>\n",
       "      <td>4.77</td>\n",
       "      <td>8.33</td>\n",
       "      <td>NaN</td>\n",
       "    </tr>\n",
       "    <tr>\n",
       "      <th>10690</th>\n",
       "      <td>1991</td>\n",
       "      <td>Todd Scott</td>\n",
       "      <td>Southwestern Louisiana</td>\n",
       "      <td>CB</td>\n",
       "      <td>70.4</td>\n",
       "      <td>204.0</td>\n",
       "      <td>9.63</td>\n",
       "      <td>31.00</td>\n",
       "      <td>NaN</td>\n",
       "      <td>4.65</td>\n",
       "      <td>14.0</td>\n",
       "      <td>33.0</td>\n",
       "      <td>NaN</td>\n",
       "      <td>NaN</td>\n",
       "      <td>9.99</td>\n",
       "      <td>11.41</td>\n",
       "    </tr>\n",
       "    <tr>\n",
       "      <th>10691</th>\n",
       "      <td>1993</td>\n",
       "      <td>Mark Szlachcic</td>\n",
       "      <td>Bowling Green (OH)</td>\n",
       "      <td>WR</td>\n",
       "      <td>75.9</td>\n",
       "      <td>200.0</td>\n",
       "      <td>8.88</td>\n",
       "      <td>33.00</td>\n",
       "      <td>NaN</td>\n",
       "      <td>4.96</td>\n",
       "      <td>NaN</td>\n",
       "      <td>26.0</td>\n",
       "      <td>106.0</td>\n",
       "      <td>4.47</td>\n",
       "      <td>9.99</td>\n",
       "      <td>12.27</td>\n",
       "    </tr>\n",
       "  </tbody>\n",
       "</table>\n",
       "<p>10692 rows × 16 columns</p>\n",
       "</div>"
      ],
      "text/plain": [
       "       Year             Name                 College  POS Height (in)  \\\n",
       "0      1987       Mike Adams           Arizona State   CB         NaN   \n",
       "1      1987     John Adickes                  Auto%#    C      Auto%#   \n",
       "2      1987       Tommy Agee                  Auburn   FB         NaN   \n",
       "3      1987  David Alexander                     NaN    C        75.0   \n",
       "4      1987    Lyneal Alston    Southern Mississippi   WR        72.1   \n",
       "...     ...              ...                     ...  ...         ...   \n",
       "10687  2014     James Morris                    Iowa  ILB       72.88   \n",
       "10688  2015      Tyler Kroft                 Rutgers   TE        77.5   \n",
       "10689  1997    Daryl Terrell    Southern Mississippi   OG        76.5   \n",
       "10690  1991       Todd Scott  Southwestern Louisiana   CB        70.4   \n",
       "10691  1993   Mark Szlachcic      Bowling Green (OH)   WR        75.9   \n",
       "\n",
       "       Weight (lbs)  Hand Size (in)  Arm Length (in)  Wonderlic  40 Yard  \\\n",
       "0             198.0            8.50            30.50        NaN     4.42   \n",
       "1             266.0           10.25            30.00        NaN      NaN   \n",
       "2             217.0            9.00            30.75        NaN     9.99   \n",
       "3             279.0           10.50              NaN        NaN     5.13   \n",
       "4             202.0           10.00            33.00        NaN     4.64   \n",
       "...             ...             ...              ...        ...      ...   \n",
       "10687         241.0            9.13            30.75        NaN     4.80   \n",
       "10688         246.0            9.63            33.00       32.0     4.69   \n",
       "10689         307.0           10.88            33.63        NaN     5.23   \n",
       "10690         204.0            9.63            31.00        NaN     4.65   \n",
       "10691         200.0            8.88            33.00        NaN     4.96   \n",
       "\n",
       "       Bench Press Vert Leap (in) Broad Jump (in)  Shuttle  3Cone 60Yd Shuttle  \n",
       "0             13.0           32.0           118.0     4.60    NaN       Auto%#  \n",
       "1             25.0           26.5           103.0     4.60   9.99          NaN  \n",
       "2             15.0            NaN             NaN     9.99   9.99          NaN  \n",
       "3             22.0           27.5          Auto%#     4.33   9.99          NaN  \n",
       "4              7.0           32.0           114.0     4.52   9.99        11.85  \n",
       "...            ...            ...             ...      ...    ...          ...  \n",
       "10687         18.0           34.5           116.0     4.36   6.94          NaN  \n",
       "10688         17.0            NaN             NaN     9.99   9.99          NaN  \n",
       "10689         28.0           29.0           103.0     4.77   8.33          NaN  \n",
       "10690         14.0           33.0             NaN      NaN   9.99        11.41  \n",
       "10691          NaN           26.0           106.0     4.47   9.99        12.27  \n",
       "\n",
       "[10692 rows x 16 columns]"
      ]
     },
     "execution_count": 145,
     "metadata": {},
     "output_type": "execute_result"
    }
   ],
   "source": [
    "df_clean = df.copy()\n",
    "df_clean"
   ]
  },
  {
   "cell_type": "markdown",
   "id": "b2798ea9",
   "metadata": {},
   "source": [
    "Busqueda de Valores Por Colunmas"
   ]
  },
  {
   "cell_type": "markdown",
   "id": "519ae79f",
   "metadata": {},
   "source": [
    "Columnas año y posición"
   ]
  },
  {
   "cell_type": "code",
   "execution_count": 146,
   "id": "1df076be",
   "metadata": {},
   "outputs": [
    {
     "data": {
      "text/plain": [
       "POS\n",
       "WR     1386\n",
       "CB     1029\n",
       "RB      957\n",
       "OT      820\n",
       "OLB     813\n",
       "DE      802\n",
       "DT      757\n",
       "OG      618\n",
       "QB      611\n",
       "TE      602\n",
       "FS      416\n",
       "ILB     414\n",
       "SS      370\n",
       "C       318\n",
       "FB      258\n",
       "P        74\n",
       "K        61\n",
       "G        20\n",
       "LB       20\n",
       "LS        9\n",
       "DL        5\n",
       "DB        5\n",
       "OL        5\n",
       "NT        2\n",
       "Name: count, dtype: int64"
      ]
     },
     "execution_count": 146,
     "metadata": {},
     "output_type": "execute_result"
    }
   ],
   "source": [
    "#Todos los valores de la columna POS\n",
    "df[\"POS\"].unique()\n",
    "df['POS'].value_counts()"
   ]
  },
  {
   "cell_type": "code",
   "execution_count": 147,
   "id": "8c15196c",
   "metadata": {},
   "outputs": [
    {
     "name": "stdout",
     "output_type": "stream",
     "text": [
      "['1987' 'Auto%#' nan '1988' '1989' '1990' '1991' '1992' '1993' '1994'\n",
      " '1995' '1996' '1997' '1998' '1999' '2000' '2001' '2002' '2003' '2004'\n",
      " '2005' '2006' '2007' '2008' '2009' '2010' '2011' '2012' '2013' '2014'\n",
      " '2015' '2016' '2017']\n"
     ]
    },
    {
     "data": {
      "text/plain": [
       "Year\n",
       "2015      748\n",
       "1991      451\n",
       "1992      447\n",
       "1999      387\n",
       "1993      348\n",
       "2012      339\n",
       "2016      335\n",
       "1994      330\n",
       "1990      324\n",
       "2017      321\n",
       "1997      320\n",
       "1995      316\n",
       "1989      314\n",
       "1988      314\n",
       "2014      310\n",
       "2011      309\n",
       "1998      306\n",
       "2013      300\n",
       "1996      298\n",
       "2006      295\n",
       "2005      291\n",
       "2010      284\n",
       "2009      282\n",
       "2004      281\n",
       "2002      279\n",
       "1987      278\n",
       "2001      277\n",
       "2008      276\n",
       "2003      275\n",
       "2007      273\n",
       "2000      258\n",
       "Auto%#    206\n",
       "Name: count, dtype: int64"
      ]
     },
     "execution_count": 147,
     "metadata": {},
     "output_type": "execute_result"
    }
   ],
   "source": [
    "#Todos los valores de la columna YEAR\n",
    "print(df[\"Year\"].unique())\n",
    "df['Year'].value_counts()"
   ]
  },
  {
   "cell_type": "markdown",
   "id": "05c5bb4f",
   "metadata": {},
   "source": [
    "Columnas Medidas Fisicas Altura/Peso/Tamaño de mano, etc."
   ]
  },
  {
   "cell_type": "code",
   "execution_count": 148,
   "id": "518069f8",
   "metadata": {},
   "outputs": [
    {
     "name": "stdout",
     "output_type": "stream",
     "text": [
      "[ 8.5  10.25  9.   10.5  10.    8.75  9.5   8.25  9.75  9.25  7.75 10.75\n",
      "  8.     nan  7.25  7.5  11.   10.63  9.63  9.38  9.88  8.88  7.88  8.63\n",
      " 10.13 10.88 10.38  9.13  8.38  8.13 11.13 11.5   7.63  7.38  7.13 11.75\n",
      " 11.25 11.38 11.63 11.88  9.08  9.18  9.78  9.58 10.08  9.28  9.68  8.58\n",
      " 10.28 10.78  9.48  8.68  8.48 10.18  8.78 10.48]\n"
     ]
    },
    {
     "data": {
      "text/plain": [
       "Hand Size (in)\n",
       "9.50     967\n",
       "9.25     770\n",
       "9.00     760\n",
       "10.00    736\n",
       "9.75     665\n",
       "9.63     549\n",
       "9.38     479\n",
       "10.25    455\n",
       "9.13     427\n",
       "10.13    400\n",
       "9.88     381\n",
       "8.75     268\n",
       "8.50     264\n",
       "10.50    250\n",
       "8.88     232\n",
       "10.38    174\n",
       "8.63     150\n",
       "10.63    116\n",
       "8.25     116\n",
       "10.75    106\n",
       "8.38      91\n",
       "8.00      72\n",
       "11.00     68\n",
       "10.88     56\n",
       "8.13      40\n",
       "11.25     15\n",
       "11.13     14\n",
       "9.28      14\n",
       "7.75      13\n",
       "7.50      13\n",
       "7.88      11\n",
       "9.08      11\n",
       "9.18      10\n",
       "8.68       9\n",
       "11.38      9\n",
       "9.68       8\n",
       "8.58       8\n",
       "10.08      7\n",
       "10.28      7\n",
       "11.50      5\n",
       "9.58       5\n",
       "11.75      4\n",
       "9.48       4\n",
       "7.63       4\n",
       "8.48       3\n",
       "9.78       3\n",
       "11.88      3\n",
       "7.25       2\n",
       "10.48      2\n",
       "7.13       2\n",
       "10.18      2\n",
       "11.63      1\n",
       "7.38       1\n",
       "10.78      1\n",
       "8.78       1\n",
       "Name: count, dtype: int64"
      ]
     },
     "execution_count": 148,
     "metadata": {},
     "output_type": "execute_result"
    }
   ],
   "source": [
    "#Todos los valores de la columna Hand Size (in)\n",
    "print(df[\"Hand Size (in)\"].unique())\n",
    "df['Hand Size (in)'].value_counts()"
   ]
  },
  {
   "cell_type": "code",
   "execution_count": 149,
   "id": "45260685",
   "metadata": {},
   "outputs": [
    {
     "name": "stdout",
     "output_type": "stream",
     "text": [
      "[30.5  30.   30.75   nan 33.   34.   32.5  32.75 29.75 30.25 31.25 31.5\n",
      " 32.   28.   31.75 32.25 31.   33.25 28.25 29.5  33.75 29.25 33.5  29.\n",
      " 35.   34.25 28.75 34.5  27.75 38.5  32.38 31.63 32.88 33.38 31.38 27.13\n",
      " 29.63 30.88 28.5  28.38 29.38 30.63 33.13 28.63 29.88 30.13 30.38 32.13\n",
      " 33.63 34.13 29.13 26.88 31.13 31.88 27.   28.88 28.13 34.63 27.5  35.25\n",
      " 35.75 35.13 32.63 36.13 36.   34.38 33.88 34.88 35.5  34.75 25.63 35.63\n",
      " 36.75 36.88 35.38 36.25 27.88 36.5  37.75 35.88 36.38 33.78 31.28 32.08\n",
      " 33.48 32.58 35.18 32.18 34.08 30.08 34.28 34.68 32.68 33.08 34.78 32.28\n",
      " 35.48 30.28 30.48 32.48 35.68 33.68 31.68 31.48 31.58 33.18 33.58 31.78\n",
      " 34.48 36.68 33.28 36.28 35.28 35.08 32.78 31.18 28.68 34.18 30.18 31.08\n",
      " 29.68 30.68 29.48 36.08 30.58 36.63]\n"
     ]
    },
    {
     "data": {
      "text/plain": [
       "Arm Length (in)\n",
       "32.00    567\n",
       "33.00    433\n",
       "31.50    415\n",
       "31.00    406\n",
       "32.50    398\n",
       "        ... \n",
       "36.28      1\n",
       "30.18      1\n",
       "29.48      1\n",
       "36.08      1\n",
       "36.63      1\n",
       "Name: count, Length: 125, dtype: int64"
      ]
     },
     "execution_count": 149,
     "metadata": {},
     "output_type": "execute_result"
    }
   ],
   "source": [
    "#Todos los valores de la columna Longitud de brazo\n",
    "print(df[\"Arm Length (in)\"].unique())\n",
    "df['Arm Length (in)'].value_counts()"
   ]
  },
  {
   "cell_type": "code",
   "execution_count": 150,
   "id": "a3621b1e",
   "metadata": {},
   "outputs": [
    {
     "name": "stdout",
     "output_type": "stream",
     "text": [
      "[nan 'Auto%#' '75.0' '72.1' '76.5' '73.6' '72.3' '76.0' '77.0' '68.0'\n",
      " '70.1' '75.4' '68.8' '74.3' '76.3' '75.8' '70.8' '70.9' '74.5' '74.4'\n",
      " '69.5' '74.6' '76.1' '69.0' '75.1' '70.6' '72.5' '72.0' '71.8' '73.0'\n",
      " '69.3' '77.4' '64.9' '70.3' '73.1' '71.0' '75.9' '78.3' '72.8' '75.6'\n",
      " '74.1' '73.8' '70.4' '68.6' '74.0' '74.8' '71.6' '71.9' '69.4' '78.5'\n",
      " '76.9' '79.0' '76.8' '70.5' '73.5' '77.9' '72.9' '72.6' '71.1' '73.9'\n",
      " '74.9' '71.4' '75.3' '71.3' '80.4' '68.4' '73.3' '69.6' '75.5' '73.4'\n",
      " '67.4' '68.9' '76.6' '78.9' '70.0' '77.8' '67.3' '78.0' '77.3' '71.5'\n",
      " '77.5' '76.4' '69.8' '78.1' '72.4' '69.1' '79.3' '78.4' '79.5' '66.8'\n",
      " '78.6' '78.8' '67.0' '77.1' '79.6' '68.5' '69.9' '67.5' '68.3' '67.9'\n",
      " '67.6' '68.1' '77.6' '66.3' '66.0' '79.1' '67.1' '79.9' '67.8' '81.0'\n",
      " '66.4' '79.4' '65.9' '80.3' '79.8' '80.0' '66.5' '81.1' '77.13' '74.25'\n",
      " '78.13' '79.13' '68.88' '76.88' '71.38' '77.75' '76.38' '69.75' '73.38'\n",
      " '77.88' '73.63' '72.25' '76.75' '71.63' '70.38' '76.25' '79.25' '75.63'\n",
      " '74.88' '77.38' '66.6' '72.38' '74.38' '70.75' '75.88' '75.75' '77.25'\n",
      " '74.75' '73.75' '73.88' '75.38' '72.13' '74.63' '72.88' '67.38' '70.88'\n",
      " '76.13' '66.1' '72.75' '76.63' '70.25' '71.25' '69.38' '74.13' '73.25'\n",
      " '72.63' '69.25' '78.63' '75.25' '70.13' '71.75' '73.13' '75.13' '69.13'\n",
      " '70.63' '69.63' '71.88' '71.13' '67.75' '78.38' '79.63' '79.75' '81.63'\n",
      " '66.25' '67.88' '69.88' '78.25' '80.5' '68.75' '77.63' '68.63' '68.38'\n",
      " '68.25' '78.75' '78.88' '68.13' '65.25' '80.13' '67.25' '66.63' '65.88'\n",
      " '66.13' '80.25' '66.75' '79.38' '65.75' '67.13' '80.38' '66.38' '67.63'\n",
      " '82.4']\n"
     ]
    },
    {
     "data": {
      "text/plain": [
       "Height (in)\n",
       "73.0     363\n",
       "75.0     322\n",
       "74.0     308\n",
       "76.0     260\n",
       "77.0     210\n",
       "        ... \n",
       "65.75      1\n",
       "80.38      1\n",
       "66.38      1\n",
       "67.63      1\n",
       "82.4       1\n",
       "Name: count, Length: 210, dtype: int64"
      ]
     },
     "execution_count": 150,
     "metadata": {},
     "output_type": "execute_result"
    }
   ],
   "source": [
    "#Todos los valores de la columna Height (in)\n",
    "print(df[\"Height (in)\"].unique())\n",
    "df[\"Height (in)\"].value_counts()"
   ]
  },
  {
   "cell_type": "code",
   "execution_count": 151,
   "id": "553de096",
   "metadata": {},
   "outputs": [
    {
     "data": {
      "text/plain": [
       "Weight (lbs)\n",
       "197.0    120\n",
       "204.0    119\n",
       "192.0    117\n",
       "199.0    114\n",
       "195.0    113\n",
       "        ... \n",
       "386.0      1\n",
       "350.0      1\n",
       "366.0      1\n",
       "375.0      1\n",
       "369.0      1\n",
       "Name: count, Length: 224, dtype: int64"
      ]
     },
     "execution_count": 151,
     "metadata": {},
     "output_type": "execute_result"
    }
   ],
   "source": [
    "#Todos los valores de la columna Weight (lbs)\n",
    "df[\"Weight (lbs)\"].unique()\n",
    "df[\"Weight (lbs)\"].value_counts()"
   ]
  },
  {
   "cell_type": "markdown",
   "id": "7ed032ad",
   "metadata": {},
   "source": [
    "Columnas De Pruebas Fisicas"
   ]
  },
  {
   "cell_type": "code",
   "execution_count": 152,
   "id": "57c0d251",
   "metadata": {},
   "outputs": [
    {
     "data": {
      "text/plain": [
       "array([4.42,  nan, 9.99, 5.13, 4.64, 4.86, 4.69, 4.71, 5.05, 4.58, 4.6 ,\n",
       "       5.14, 4.98, 4.52, 5.18, 4.83, 4.75, 5.03, 4.82, 4.63, 4.61, 4.68,\n",
       "       4.85, 5.1 , 5.12, 4.55, 4.73, 5.4 , 4.53, 4.46, 5.51, 4.67, 5.33,\n",
       "       5.48, 4.45, 5.07, 5.53, 5.29, 5.28, 4.65, 4.44, 4.57, 4.84, 4.79,\n",
       "       4.62, 4.56, 4.91, 4.49, 5.2 , 5.01, 5.21, 4.5 , 5.46, 4.66, 4.48,\n",
       "       4.74, 5.09, 5.08, 4.81, 4.89, 4.76, 4.92, 4.8 , 4.96, 4.77, 4.41,\n",
       "       4.54, 4.97, 4.88, 5.11, 5.23, 4.59, 4.72, 4.7 , 5.25, 4.78, 4.51,\n",
       "       5.39, 4.43, 5.37, 5.22, 5.27, 4.47, 5.41, 4.99, 4.35, 4.94, 5.15,\n",
       "       4.95, 4.38, 4.9 , 5.5 , 5.52, 4.87, 4.33, 5.36, 4.39, 5.34, 4.4 ,\n",
       "       4.93, 5.19, 5.56, 5.02, 4.37, 5.06, 4.32, 5.17, 5.04, 5.32, 5.  ,\n",
       "       4.36, 5.16, 5.44, 5.49, 5.24, 5.55, 5.42, 5.85, 4.29, 5.26, 5.3 ,\n",
       "       5.61, 5.35, 5.68, 5.45, 5.47, 5.58, 5.31, 5.62, 4.34, 5.69, 5.79,\n",
       "       5.43, 5.38, 5.57, 5.6 , 5.74, 5.63, 5.86, 5.88, 5.77, 5.64, 5.65,\n",
       "       5.71, 5.54, 5.73, 5.67, 6.01, 5.75, 6.12, 4.28, 5.84, 5.72, 4.24,\n",
       "       5.7 , 5.59, 5.94, 5.66, 6.03, 4.31, 5.9 , 6.07, 5.8 , 4.26, 5.89,\n",
       "       4.3 , 4.25, 4.22, 4.21, 5.76, 4.27, 6.  ])"
      ]
     },
     "execution_count": 152,
     "metadata": {},
     "output_type": "execute_result"
    }
   ],
   "source": [
    "#Todos los valores de la columna 40 YARD\n",
    "df[\"40 Yard\"].unique()"
   ]
  },
  {
   "cell_type": "code",
   "execution_count": 153,
   "id": "8b6b48c4",
   "metadata": {},
   "outputs": [
    {
     "data": {
      "text/plain": [
       "array([13., 25., 15., 22.,  7., 18., nan, 14., 23.,  4., 31., 24.,  8.,\n",
       "        3., 27.,  9., 20., 17., 19., 10., 16., 21.,  1., 11., 12., 29.,\n",
       "       28.,  2.,  6.,  5., 26., 32., 34., 30., 36., 33., 35., 40., 37.,\n",
       "       51., 38., 45., 41., 42., 43., 44., 39., 49.])"
      ]
     },
     "execution_count": 153,
     "metadata": {},
     "output_type": "execute_result"
    }
   ],
   "source": [
    "#Todos los valores de la columna \n",
    "df[\"Bench Press\"].unique()"
   ]
  },
  {
   "cell_type": "code",
   "execution_count": 154,
   "id": "79259f15",
   "metadata": {},
   "outputs": [
    {
     "data": {
      "text/plain": [
       "array(['32.0', '26.5', nan, '27.5', '28.5', '31.0', '27.0', '28.0',\n",
       "       '24.0', '21.5', '26.0', '29.5', '30.0', '23.0', '35.0', '24.5',\n",
       "       '25.5', '32.5', '25.0', '29.0', '35.5', '22.0', '21.0', '30.5',\n",
       "       '34.0', '37.5', '20.5', 'Auto%#', '37.0', '23.5', '31.5', '33.5',\n",
       "       '33.0', '34.5', '22.5', '36.5', '36.0', '38.0', '38.5', '43.0',\n",
       "       '33.3', '34.2', '40.5', '39.0', '40.0', '20.0', '39.5', '19.5',\n",
       "       '41.0', '42.0', '41.5', '43.5', '19.0', '42.5', '45.0', '46.0',\n",
       "       '45.5', '44.0', '22.2', '26.1', '44.5', '17.5'], dtype=object)"
      ]
     },
     "execution_count": 154,
     "metadata": {},
     "output_type": "execute_result"
    }
   ],
   "source": [
    "#Todos los valores de la columna \n",
    "df[\"Vert Leap (in)\"].unique()"
   ]
  },
  {
   "cell_type": "code",
   "execution_count": 155,
   "id": "d49756dc",
   "metadata": {},
   "outputs": [
    {
     "data": {
      "text/plain": [
       "array(['118.0', '103.0', nan, 'Auto%#', '114.0', '108.0', '111.0',\n",
       "       '116.0', '100.0', '120.0', '96.0', '91.0', '112.0', '106.0',\n",
       "       '105.0', '93.0', '99.0', '97.0', '104.0', '117.0', '92.0', '119.0',\n",
       "       '90.0', '122.0', '110.0', '115.0', '113.0', '101.0', '123.0',\n",
       "       '107.0', '88.0', '94.0', '124.0', '102.0', '109.0', '128.0',\n",
       "       '121.0', '127.0', '126.0', '98.0', '89.0', '87.0', '125.0',\n",
       "       '129.0', '95.0', '133.0', '82.0', '130.0', '83.0', '131.0',\n",
       "       '132.0', '81.0', '135.0', '134.0', '137.0', '7.0', '8.0', '84.0',\n",
       "       '86.0', '85.0', '136.0', '73.0', '139.0', '138.0', '147.0',\n",
       "       '141.0'], dtype=object)"
      ]
     },
     "execution_count": 155,
     "metadata": {},
     "output_type": "execute_result"
    }
   ],
   "source": [
    "#Todos los valores de la columna \n",
    "df[\"Broad Jump (in)\"].unique()"
   ]
  },
  {
   "cell_type": "code",
   "execution_count": 156,
   "id": "ba399116",
   "metadata": {},
   "outputs": [
    {
     "data": {
      "text/plain": [
       "array([4.6 , 9.99, 4.33, 4.52, 4.49, 4.48, 4.16, 4.81, 4.55, 4.45, 4.41,\n",
       "       4.77, 4.26, 4.59, 4.05, 4.12, 4.46, 4.34, 4.5 , 4.3 , 4.39, 4.47,\n",
       "       4.63, 4.17, 4.54, 4.1 ,  nan, 4.35, 4.88, 4.51, 4.42, 4.43, 4.76,\n",
       "       4.68, 4.71, 5.17, 4.44, 4.38, 4.56, 4.2 , 4.21, 4.02, 4.4 , 4.06,\n",
       "       4.69, 4.11, 4.25, 4.62, 4.61, 4.14, 4.53, 4.28, 4.22, 4.03, 4.09,\n",
       "       4.15, 4.36, 4.37, 4.86, 4.95, 4.19, 5.01, 4.13, 4.73, 4.27, 4.84,\n",
       "       4.29, 4.07, 4.31, 4.92, 4.18, 4.91, 4.79, 4.9 , 5.05, 4.32, 4.65,\n",
       "       4.94, 4.78, 5.  , 4.82, 5.04, 4.57, 3.98, 4.83, 4.64, 4.67, 4.72,\n",
       "       4.96, 5.02, 5.08, 4.66, 4.89, 5.1 , 4.23, 4.7 , 4.85, 5.03, 4.58,\n",
       "       3.87, 3.82, 4.98, 4.24, 3.97, 4.08, 4.93, 4.75, 4.  , 5.13, 5.31,\n",
       "       3.91, 5.29, 3.95, 3.99, 3.96, 5.09, 5.06, 4.04, 4.87, 5.19, 4.97,\n",
       "       5.2 , 3.93, 4.01, 4.74, 4.99, 5.18, 4.8 , 5.11, 3.9 , 5.12, 3.85,\n",
       "       5.23, 3.89, 5.27, 3.8 , 5.34, 5.21, 5.35, 5.25, 5.15, 5.32, 5.45,\n",
       "       5.14, 5.4 , 5.07, 3.92, 3.78, 5.16, 3.86, 3.79, 3.88, 3.94, 5.22,\n",
       "       3.84, 3.73, 3.83, 3.76, 5.48, 3.75, 3.81, 5.33, 5.38, 5.56, 5.24])"
      ]
     },
     "execution_count": 156,
     "metadata": {},
     "output_type": "execute_result"
    }
   ],
   "source": [
    "#Todos los valores de la columna \n",
    "df[\"Shuttle\"].unique()"
   ]
  },
  {
   "cell_type": "code",
   "execution_count": 157,
   "id": "0374862c",
   "metadata": {},
   "outputs": [
    {
     "data": {
      "text/plain": [
       "array([ nan, 9.99, 7.51, 8.85, 7.6 , 7.27, 7.45, 7.48, 8.03, 8.8 , 7.14,\n",
       "       7.85, 7.22, 7.18, 7.88, 7.67, 7.79, 7.31, 8.25, 7.64, 7.12, 7.63,\n",
       "       7.47, 8.42, 7.8 , 7.69, 7.86, 7.76, 7.54, 8.22, 7.35, 8.08, 7.36,\n",
       "       7.92, 8.3 , 8.16, 7.62, 7.38, 7.66, 7.58, 7.28, 7.75, 7.52, 8.79,\n",
       "       8.32, 7.71, 7.39, 7.42, 7.74, 7.73, 7.24, 7.4 , 7.97, 7.21, 7.81,\n",
       "       8.84, 7.89, 7.82, 7.68, 8.23, 7.55, 7.3 , 7.98, 7.25, 7.09, 7.9 ,\n",
       "       7.46, 8.14, 7.41, 6.88, 7.84, 7.06, 7.19, 8.04, 7.33, 7.49, 7.72,\n",
       "       8.33, 7.23, 7.56, 8.61, 7.16, 9.18, 8.4 , 8.2 , 8.  , 7.34, 8.73,\n",
       "       7.44, 8.63, 7.93, 9.16, 8.01, 8.71, 8.48, 7.65, 7.95, 6.97, 7.57,\n",
       "       7.83, 7.94, 7.29, 7.53, 8.58, 7.91, 8.54, 8.06, 7.77, 8.12, 7.1 ,\n",
       "       7.43, 8.36, 8.64, 9.04, 8.07, 8.7 , 8.13, 8.17, 7.08, 8.11, 8.5 ,\n",
       "       8.6 , 8.97, 8.88, 8.02, 8.49, 8.45, 8.24, 9.02, 8.41, 8.66, 7.7 ,\n",
       "       8.28, 8.05, 7.5 , 9.17, 8.21, 8.51, 8.1 , 7.61, 8.18, 8.39, 8.47,\n",
       "       8.34, 8.52, 9.61, 7.87, 7.78, 8.77, 7.32, 8.15, 7.15, 7.96, 7.07,\n",
       "       9.28, 6.9 , 6.99, 7.2 , 7.03, 7.  , 7.11, 7.37, 8.19, 6.96, 6.87,\n",
       "       6.89, 7.26, 7.99, 8.43, 7.13, 6.86, 6.79, 8.09, 6.72, 6.84, 7.01,\n",
       "       6.91, 8.72, 7.04, 6.93, 8.31, 7.17, 6.8 , 8.76, 6.98, 6.92, 6.7 ,\n",
       "       6.94, 6.48, 6.64, 6.75, 6.76, 6.34, 6.95, 6.62, 6.73, 6.85, 6.81,\n",
       "       6.82, 6.63, 8.37, 7.05, 7.59, 6.66, 7.02, 8.38, 6.61, 6.78, 8.27,\n",
       "       8.56, 6.56, 8.59, 6.71, 6.68, 8.62, 6.77, 6.65, 6.83, 6.51, 9.  ,\n",
       "       6.74, 8.35, 9.09, 8.65, 8.55, 8.57, 8.75, 6.67, 6.69, 8.26, 6.54,\n",
       "       6.6 , 6.5 , 8.44, 6.57, 8.67, 6.59, 6.58, 6.45, 8.29, 6.55, 6.42,\n",
       "       6.46, 6.44, 6.52, 6.53, 6.47, 6.49])"
      ]
     },
     "execution_count": 157,
     "metadata": {},
     "output_type": "execute_result"
    }
   ],
   "source": [
    "#Todos los valores de la columna \n",
    "df[\"3Cone\"].unique()"
   ]
  },
  {
   "cell_type": "code",
   "execution_count": 158,
   "id": "c83e3b01",
   "metadata": {},
   "outputs": [
    {
     "data": {
      "text/plain": [
       "array(['Auto%#', nan, '11.85', '12.17', '11.59', '12.05', '12.07',\n",
       "       '11.89', '11.31', '11.34', '11.62', '12.23', '11.8', '12.01',\n",
       "       '11.64', '12.12', '11.21', '12.37', '12.0', '12.18', '11.63',\n",
       "       '11.78', '11.46', '11.68', '11.69', '11.86', '11.65', '11.88',\n",
       "       '11.73', '11.47', '11.94', '11.91', '12.2', '11.28', '11.57',\n",
       "       '12.81', '11.56', '11.77', '11.74', '11.36', '12.4', '11.41',\n",
       "       '12.6', '12.63', '11.33', '11.32', '11.67', '11.53', '11.42',\n",
       "       '11.44', '12.64', '12.53', '11.96', '11.93', '12.08', '12.19',\n",
       "       '11.39', '12.06', '12.7', '11.49', '12.09', '12.34', '11.23',\n",
       "       '11.05', '11.5', '11.99', '11.9', '11.82', '11.26', '11.76',\n",
       "       '11.48', '11.03', '11.52', '11.54', '12.03', '11.06', '12.14',\n",
       "       '12.77', '12.3', '11.18', '12.26', '11.19', '12.27', '11.58',\n",
       "       '11.51', '11.61', '12.57', '10.92', '11.71', '11.72', '12.76',\n",
       "       '11.97', '12.56', '12.5', '11.25', '11.7', '11.45', '11.87',\n",
       "       '12.45', '11.81', '12.78', '11.29', '12.25', '11.6', '12.36',\n",
       "       '11.38', '11.66', '11.55', '12.49', '12.39', '12.38', '11.4',\n",
       "       '11.84', '10.65', '12.21', '12.33', '12.28', '11.11', '12.02',\n",
       "       '13.0', '11.24', '11.98', '12.58', '12.42', '12.1', '10.96',\n",
       "       '10.91', '12.71', '10.93', '12.35', '13.62', '10.74', '10.89',\n",
       "       '13.34', '11.35', '12.31', '12.11', '12.87', '12.41', '12.16',\n",
       "       '12.13', '11.79', '11.83', '13.38', '12.29', '12.24', '11.75',\n",
       "       '11.43', '10.98', '11.1', '10.87', '11.16', '10.83', '11.37',\n",
       "       '11.92', '11.09', '11.17', '12.52', '10.99', '11.95', '11.27',\n",
       "       '11.13', '12.99', '11.12', '11.3', '12.74', '12.91', '12.85',\n",
       "       '12.04', '12.15', '12.51', '11.22', '12.83', '12.22', '10.86',\n",
       "       '12.69', '11.2', '12.46', '11.14', '10.97', '12.61', '13.04',\n",
       "       '12.43', '12.59', '11.02', '13.2', '12.66', '11.01', '12.67',\n",
       "       '13.35', '12.44', '11.07', '13.07', '12.54', '11.15', '11.0',\n",
       "       '11.04', '12.95', '12.84', '12.8', '10.85', '13.05', '12.62',\n",
       "       '10.88', '12.75', '12.68', '12.48', '13.91', '12.32', '12.55',\n",
       "       '12.47', '12.65', '11.08', '10.66', '10.58', '10.62', '10.95',\n",
       "       '10.76', '10.94', '10.75', '12.86', '10.77', '10.72', '10.82',\n",
       "       '12.82', '10.71', '10.43', '10.48', '10.81', '10.56', '10.69',\n",
       "       '10.84', '10.8', '10.7', '12.72', '13.14'], dtype=object)"
      ]
     },
     "execution_count": 158,
     "metadata": {},
     "output_type": "execute_result"
    }
   ],
   "source": [
    "#Todos los valores de la columna\n",
    "df[\"60Yd Shuttle\"].unique()"
   ]
  },
  {
   "cell_type": "markdown",
   "id": "8f7364fe",
   "metadata": {},
   "source": [
    "Calcular Valores Duplicados"
   ]
  },
  {
   "cell_type": "code",
   "execution_count": 159,
   "id": "817ef542",
   "metadata": {},
   "outputs": [
    {
     "data": {
      "text/plain": [
       "np.int64(260)"
      ]
     },
     "execution_count": 159,
     "metadata": {},
     "output_type": "execute_result"
    }
   ],
   "source": [
    "#Con este comando se crea un booleano que muestra renglones duplicados\n",
    "df.duplicated()\n",
    "df.duplicated().sum()"
   ]
  },
  {
   "cell_type": "code",
   "execution_count": 160,
   "id": "c250f9fd",
   "metadata": {},
   "outputs": [
    {
     "data": {
      "text/plain": [
       "(10432, 16)"
      ]
     },
     "execution_count": 160,
     "metadata": {},
     "output_type": "execute_result"
    }
   ],
   "source": [
    "#Eliminar Duplica2\n",
    "df_clean = df_clean.drop_duplicates()\n",
    "df_clean.shape"
   ]
  },
  {
   "cell_type": "markdown",
   "id": "91256116",
   "metadata": {},
   "source": [
    "Diccionario de Palabras a quitar y remplazo por nan"
   ]
  },
  {
   "cell_type": "code",
   "execution_count": 161,
   "id": "8fa61713",
   "metadata": {},
   "outputs": [],
   "source": [
    "palabras_a_eliminar = [\"Auto%#\"]\n",
    "df_clean = df_clean.replace(palabras_a_eliminar, np.nan)"
   ]
  },
  {
   "cell_type": "markdown",
   "id": "cc3df6af",
   "metadata": {},
   "source": [
    "Limpiar Tipo Obj"
   ]
  },
  {
   "cell_type": "code",
   "execution_count": 162,
   "id": "b0bb1c7a",
   "metadata": {},
   "outputs": [
    {
     "data": {
      "text/plain": [
       "Index(['Year', 'Name', 'College', 'POS', 'Height (in)', 'Vert Leap (in)',\n",
       "       'Broad Jump (in)', '60Yd Shuttle'],\n",
       "      dtype='object')"
      ]
     },
     "execution_count": 162,
     "metadata": {},
     "output_type": "execute_result"
    }
   ],
   "source": [
    "obj_cols = df_clean.select_dtypes(include=[\"object\"]).columns\n",
    "obj_cols"
   ]
  },
  {
   "cell_type": "code",
   "execution_count": 163,
   "id": "743ec0a8",
   "metadata": {},
   "outputs": [],
   "source": [
    "if len(obj_cols) > 0:\n",
    "    df_clean[obj_cols] = df_clean[obj_cols].apply(lambda s: s.str.replace(r\"\\s+\", \" \", regex=True).str.strip())\n",
    "    df_clean[obj_cols] = df_clean[obj_cols].replace({\"\": np.nan})"
   ]
  },
  {
   "cell_type": "markdown",
   "id": "b9c8866b",
   "metadata": {},
   "source": [
    "Limpiar Tipo Numericos"
   ]
  },
  {
   "cell_type": "code",
   "execution_count": 164,
   "id": "344d522e",
   "metadata": {},
   "outputs": [
    {
     "data": {
      "text/plain": [
       "Year               float64\n",
       "Name                object\n",
       "College             object\n",
       "POS                 object\n",
       "Height (in)        float64\n",
       "Weight (lbs)       float64\n",
       "Hand Size (in)     float64\n",
       "Arm Length (in)    float64\n",
       "Wonderlic          float64\n",
       "40 Yard            float64\n",
       "Bench Press        float64\n",
       "Vert Leap (in)     float64\n",
       "Broad Jump (in)    float64\n",
       "Shuttle            float64\n",
       "3Cone              float64\n",
       "60Yd Shuttle       float64\n",
       "dtype: object"
      ]
     },
     "execution_count": 164,
     "metadata": {},
     "output_type": "execute_result"
    }
   ],
   "source": [
    "obj_cols = df_clean.select_dtypes(include=[\"object\"]).columns\n",
    "\n",
    "for col in obj_cols:\n",
    "    try:\n",
    "        df_clean[col] = pd.to_numeric(df_clean[col])\n",
    "    except:\n",
    "        pass\n",
    "\n",
    "df_clean.dtypes\n"
   ]
  },
  {
   "cell_type": "markdown",
   "id": "d6abe714",
   "metadata": {},
   "source": [
    "Quitamos Nan\n",
    "num_cols=mediana de la columna\n",
    "cat_cols=  moda de la columna"
   ]
  },
  {
   "cell_type": "code",
   "execution_count": 165,
   "id": "88d827ca",
   "metadata": {},
   "outputs": [
    {
     "data": {
      "text/plain": [
       "Year               0\n",
       "Name               0\n",
       "College            0\n",
       "POS                0\n",
       "Height (in)        0\n",
       "Weight (lbs)       0\n",
       "Hand Size (in)     0\n",
       "Arm Length (in)    0\n",
       "Wonderlic          0\n",
       "40 Yard            0\n",
       "Bench Press        0\n",
       "Vert Leap (in)     0\n",
       "Broad Jump (in)    0\n",
       "Shuttle            0\n",
       "3Cone              0\n",
       "60Yd Shuttle       0\n",
       "dtype: int64"
      ]
     },
     "execution_count": 165,
     "metadata": {},
     "output_type": "execute_result"
    }
   ],
   "source": [
    "num_cols = df_clean.select_dtypes(include=[np.number]).columns\n",
    "cat_cols = df_clean.select_dtypes(exclude=[np.number]).columns\n",
    "\n",
    "# Relleno numérico con medianas\n",
    "medians = df_clean[num_cols].median(numeric_only=True) if len(num_cols) > 0 else pd.Series(dtype=float)\n",
    "df_clean[num_cols] = df_clean[num_cols].fillna(medians)\n",
    "\n",
    "# Relleno categórico con modas\n",
    "if len(cat_cols) > 0:\n",
    "    modes = df_clean[cat_cols].mode(dropna=True)\n",
    "    if not modes.empty:\n",
    "        mode_vals = modes.iloc[0]\n",
    "        df_clean[cat_cols] = df_clean[cat_cols].fillna(mode_vals)\n",
    "\n",
    "df_clean.isnull().sum() #Verificamos 0 en NAN\n"
   ]
  },
  {
   "cell_type": "code",
   "execution_count": null,
   "id": "210c7bf1",
   "metadata": {},
   "outputs": [],
   "source": []
  },
  {
   "cell_type": "markdown",
   "id": "38c937ae",
   "metadata": {},
   "source": [
    "Guardar el csv limpio"
   ]
  },
  {
   "cell_type": "code",
   "execution_count": 166,
   "id": "a847068e",
   "metadata": {},
   "outputs": [],
   "source": [
    "df_clean.to_csv(\"Base de Datos Limpia\", index=False)"
   ]
  }
 ],
 "metadata": {
  "kernelspec": {
   "display_name": "Python 3",
   "language": "python",
   "name": "python3"
  },
  "language_info": {
   "codemirror_mode": {
    "name": "ipython",
    "version": 3
   },
   "file_extension": ".py",
   "mimetype": "text/x-python",
   "name": "python",
   "nbconvert_exporter": "python",
   "pygments_lexer": "ipython3",
   "version": "3.13.7"
  }
 },
 "nbformat": 4,
 "nbformat_minor": 5
}
